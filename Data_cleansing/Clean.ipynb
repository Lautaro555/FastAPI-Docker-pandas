{
 "cells": [
  {
   "attachments": {},
   "cell_type": "markdown",
   "metadata": {},
   "source": [
    "Se importan las librerias"
   ]
  },
  {
   "cell_type": "code",
   "execution_count": 1,
   "metadata": {},
   "outputs": [],
   "source": [
    "import pandas as pd"
   ]
  },
  {
   "attachments": {},
   "cell_type": "markdown",
   "metadata": {},
   "source": [
    "Se cargan los datasets con pandas"
   ]
  },
  {
   "cell_type": "code",
   "execution_count": 8,
   "metadata": {},
   "outputs": [],
   "source": [
    "amazon=pd.read_csv(\"https://github.com/Lautaro555/PI01_DATA05/raw/main/Datasets/amazon_prime_titles.csv\", sep=\",\")\n",
    "disney=pd.read_csv(\"https://github.com/Lautaro555/PI01_DATA05/raw/main/Datasets/disney_plus_titles.csv\", sep=\",\")\n",
    "hulu=pd.read_csv(\"https://github.com/Lautaro555/PI01_DATA05/raw/main/Datasets/hulu_titles.csv\", sep=\",\")\n",
    "netflix=pd.read_json(\"https://github.com/Lautaro555/PI01_DATA05/raw/main/Datasets/netflix_titles.json\") "
   ]
  },
  {
   "attachments": {},
   "cell_type": "markdown",
   "metadata": {},
   "source": [
    "Se eliminan duplicados y las columnas \"show_id\" de cada dataframe"
   ]
  },
  {
   "cell_type": "code",
   "execution_count": 9,
   "metadata": {},
   "outputs": [],
   "source": [
    "hulu.drop_duplicates(subset=[\"title\"],inplace=True)\n",
    "hulu.drop_duplicates(inplace=True)\n",
    "del hulu[\"show_id\"]\n",
    "\n",
    "netflix.drop_duplicates(subset=[\"title\"],inplace=True)\n",
    "netflix.drop_duplicates(inplace=True)\n",
    "del netflix[\"show_id\"]\n",
    "\n",
    "disney.drop_duplicates(subset=[\"title\"],inplace=True)\n",
    "disney.drop_duplicates(inplace=True)\n",
    "del disney[\"show_id\"]\n",
    "\n",
    "amazon.drop_duplicates(subset=[\"title\"],inplace=True)\n",
    "amazon.drop_duplicates(inplace=True)\n",
    "del amazon[\"show_id\"]"
   ]
  },
  {
   "attachments": {},
   "cell_type": "markdown",
   "metadata": {},
   "source": [
    "Se crea un solo dataframe"
   ]
  },
  {
   "cell_type": "code",
   "execution_count": 10,
   "metadata": {},
   "outputs": [],
   "source": [
    "df = pd.merge(hulu, amazon, on='title',how=\"outer\", suffixes=(\"_hulu\",\"_amazon\"))\n",
    "df = pd.merge(df, netflix, on='title',how=\"outer\",suffixes=(None,\"_netflix\"))\n",
    "df = pd.merge(df, disney, on='title',how=\"outer\",suffixes=(None,\"_disney\"))"
   ]
  },
  {
   "attachments": {},
   "cell_type": "markdown",
   "metadata": {},
   "source": [
    "Se arregla un error con el sufijo \"_netflix\" en el nombre de la columna 21 a la 31"
   ]
  },
  {
   "cell_type": "code",
   "execution_count": 11,
   "metadata": {},
   "outputs": [],
   "source": [
    "df.rename(columns=lambda x: x + \"_netflix\" if x in df.columns.to_list()[21:31] else x, inplace=True)"
   ]
  },
  {
   "attachments": {},
   "cell_type": "markdown",
   "metadata": {},
   "source": [
    "Se completan los nulos con 0 para facilitar el posterior trabajo con funciones"
   ]
  },
  {
   "cell_type": "code",
   "execution_count": 13,
   "metadata": {},
   "outputs": [],
   "source": [
    "df.fillna(0,inplace=True)"
   ]
  },
  {
   "attachments": {},
   "cell_type": "markdown",
   "metadata": {},
   "source": [
    "Elimino los string para cada valor en las columnas duration.\n",
    "Luego convierto el tipo de dato de duration y release_year a entero."
   ]
  },
  {
   "cell_type": "code",
   "execution_count": 14,
   "metadata": {},
   "outputs": [],
   "source": [
    "list_replace=[\" min\",\" Season\",\" Seasons\",\"s\"]\n",
    "list_value=[\"\",\"\",\"\",\"\"]\n",
    "df[[\"duration_amazon\",\"duration_netflix\",\"duration_disney\",\"duration_hulu\"]]=df[[\"duration_amazon\",\"duration_netflix\",\"duration_disney\",\"duration_hulu\"]].replace(list_replace,list_value,regex=True)"
   ]
  },
  {
   "attachments": {},
   "cell_type": "markdown",
   "metadata": {},
   "source": [
    "Se acomoda el formato de los datos en las columnas cast y las columnas listed_in eliminando espacios despues de \",\"."
   ]
  },
  {
   "cell_type": "code",
   "execution_count": null,
   "metadata": {},
   "outputs": [],
   "source": [
    "df[[\"cast_amazon\",\"cast_disney\",\"cast_netflix\",\"cast_hulu\"]]=df[[\"cast_amazon\",\"cast_disney\",\"cast_netflix\",\"cast_hulu\"]].replace(\", \",\",\",regex=True)\n",
    "\n",
    "df[[\"listed_in_amazon\",\"listed_in_disney\",\"listed_in_netflix\",\"listed_in_hulu\"]]=df[[\"listed_in_amazon\",\"listed_in_disney\",\"listed_in_netflix\",\"listed_in_hulu\"]].replace(\", \",\",\",regex=True)"
   ]
  },
  {
   "attachments": {},
   "cell_type": "markdown",
   "metadata": {},
   "source": [
    "Luego convierto el tipo de dato de duration y release_year a entero"
   ]
  },
  {
   "cell_type": "code",
   "execution_count": null,
   "metadata": {},
   "outputs": [],
   "source": [
    "df[[\"duration_amazon\",\"duration_netflix\",\"duration_disney\",\"duration_hulu\"]]=df[[\"duration_amazon\",\"duration_netflix\",\"duration_disney\",\"duration_hulu\"]].astype(int)\n",
    "df[[\"release_year_amazon\",\"release_year_netflix\",\"release_year_disney\",\"release_year_hulu\"]]=df[[\"release_year_amazon\",\"release_year_netflix\",\"release_year_disney\",\"release_year_hulu\"]].astype(int)\n"
   ]
  },
  {
   "attachments": {},
   "cell_type": "markdown",
   "metadata": {},
   "source": [
    "Una vez acomodados mis datos los guardo en un archivo .csv en la carpeta \"Clean_dataset\""
   ]
  },
  {
   "cell_type": "code",
   "execution_count": null,
   "metadata": {},
   "outputs": [],
   "source": [
    "df.to_csv(r\"Clean_dataset\\df.csv\")"
   ]
  }
 ],
 "metadata": {
  "kernelspec": {
   "display_name": "Python 3",
   "language": "python",
   "name": "python3"
  },
  "language_info": {
   "codemirror_mode": {
    "name": "ipython",
    "version": 3
   },
   "file_extension": ".py",
   "mimetype": "text/x-python",
   "name": "python",
   "nbconvert_exporter": "python",
   "pygments_lexer": "ipython3",
   "version": "3.10.7"
  },
  "orig_nbformat": 4,
  "vscode": {
   "interpreter": {
    "hash": "2711725d473bbbc5495942fb8452d9b92540956864e278750e6f52a820e4fcee"
   }
  }
 },
 "nbformat": 4,
 "nbformat_minor": 2
}
